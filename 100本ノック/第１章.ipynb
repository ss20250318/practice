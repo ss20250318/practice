{
 "cells": [
  {
   "cell_type": "code",
   "execution_count": 127,
   "id": "f4d87de0-c053-4a08-a976-62613832986d",
   "metadata": {},
   "outputs": [
    {
     "name": "stdout",
     "output_type": "stream",
     "text": [
      "  customer_id customer_name    registration_date customer_name_kana  \\\n",
      "0    IK152942        平田 裕次郎  2019-01-01 00:25:33          ひらた ゆうじろう   \n",
      "1    TS808488         田村 詩織  2019-01-01 01:13:45            たむら しおり   \n",
      "2    AS834628         久野 由樹  2019-01-01 02:00:14             ひさの ゆき   \n",
      "3    AS345469          鶴岡 薫  2019-01-01 04:48:22           つるおか かおる   \n",
      "4    GD892565         大内 高史  2019-01-01 04:54:51           おおうち たかし   \n",
      "\n",
      "                         email gender  age      birth pref  \n",
      "0  hirata_yuujirou@example.com      M   29  1990/6/10  石川県  \n",
      "1    tamura_shiori@example.com      F   33  1986/5/20  東京都  \n",
      "2      hisano_yuki@example.com      F   63   1956/1/2  茨城県  \n",
      "3   tsuruoka_kaoru@example.com      M   74  1945/3/25  東京都  \n",
      "4   oouchi_takashi@example.com      M   54   1965/8/5  千葉県  \n",
      "  item_id item_name  item_price\n",
      "0    S001      PC-A       50000\n",
      "1    S002      PC-B       85000\n",
      "2    S003      PC-C      120000\n",
      "3    S004      PC-D      180000\n",
      "4    S005      PC-E      210000\n",
      "  transaction_id   price         payment_date customer_id\n",
      "0    T0000000113  210000  2019-02-01 01:36:57    PL563502\n",
      "1    T0000000114   50000  2019-02-01 01:37:23    HD678019\n",
      "2    T0000000115  120000  2019-02-01 02:34:19    HD298120\n",
      "3    T0000000116  210000  2019-02-01 02:47:23    IK452215\n",
      "4    T0000000117  170000  2019-02-01 04:33:46    PL542865\n",
      "   detail_id transaction_id item_id  quantity\n",
      "0          0    T0000000113    S005         1\n",
      "1          1    T0000000114    S001         1\n",
      "2          2    T0000000115    S003         1\n",
      "3          3    T0000000116    S005         1\n",
      "4          4    T0000000117    S002         2\n"
     ]
    },
    {
     "data": {
      "text/html": [
       "<div>\n",
       "<style scoped>\n",
       "    .dataframe tbody tr th:only-of-type {\n",
       "        vertical-align: middle;\n",
       "    }\n",
       "\n",
       "    .dataframe tbody tr th {\n",
       "        vertical-align: top;\n",
       "    }\n",
       "\n",
       "    .dataframe thead th {\n",
       "        text-align: right;\n",
       "    }\n",
       "</style>\n",
       "<table border=\"1\" class=\"dataframe\">\n",
       "  <thead>\n",
       "    <tr style=\"text-align: right;\">\n",
       "      <th></th>\n",
       "      <th>detail_id</th>\n",
       "      <th>transaction_id</th>\n",
       "      <th>item_id</th>\n",
       "      <th>quantity</th>\n",
       "    </tr>\n",
       "  </thead>\n",
       "  <tbody>\n",
       "    <tr>\n",
       "      <th>0</th>\n",
       "      <td>5000</td>\n",
       "      <td>T0000004870</td>\n",
       "      <td>S002</td>\n",
       "      <td>3</td>\n",
       "    </tr>\n",
       "    <tr>\n",
       "      <th>1</th>\n",
       "      <td>5001</td>\n",
       "      <td>T0000004871</td>\n",
       "      <td>S003</td>\n",
       "      <td>1</td>\n",
       "    </tr>\n",
       "    <tr>\n",
       "      <th>2</th>\n",
       "      <td>5002</td>\n",
       "      <td>T0000004872</td>\n",
       "      <td>S001</td>\n",
       "      <td>2</td>\n",
       "    </tr>\n",
       "    <tr>\n",
       "      <th>3</th>\n",
       "      <td>5003</td>\n",
       "      <td>T0000004873</td>\n",
       "      <td>S004</td>\n",
       "      <td>1</td>\n",
       "    </tr>\n",
       "    <tr>\n",
       "      <th>4</th>\n",
       "      <td>5004</td>\n",
       "      <td>T0000004874</td>\n",
       "      <td>S003</td>\n",
       "      <td>2</td>\n",
       "    </tr>\n",
       "  </tbody>\n",
       "</table>\n",
       "</div>"
      ],
      "text/plain": [
       "   detail_id transaction_id item_id  quantity\n",
       "0       5000    T0000004870    S002         3\n",
       "1       5001    T0000004871    S003         1\n",
       "2       5002    T0000004872    S001         2\n",
       "3       5003    T0000004873    S004         1\n",
       "4       5004    T0000004874    S003         2"
      ]
     },
     "execution_count": 127,
     "metadata": {},
     "output_type": "execute_result"
    }
   ],
   "source": [
    "#データの読み込み\n",
    "import pandas as pd\n",
    "customer_master = pd.read_csv('/Users/shimizushota/python/100knock-data_analytics/1章/customer_master.csv')\n",
    "print(customer_master.head())\n",
    "\n",
    "item_master = pd.read_csv('/Users/shimizushota/python/100knock-data_analytics/1章/item_master.csv')\n",
    "print(item_master.head())\n",
    "\n",
    "transaction_1 = pd.read_csv('/Users/shimizushota/python/100knock-data_analytics/1章/transaction_1.csv') \n",
    "print(transaction_1.head())\n",
    "transaction_2 = pd.read_csv('/Users/shimizushota/python/100knock-data_analytics/1章/transaction_2.csv')\n",
    "transaction_2.head()\n",
    "\n",
    "transaction_detail_1 = pd.read_csv('/Users/shimizushota/python/100knock-data_analytics/1章/transaction_detail_1.csv')\n",
    "print(transaction_detail_1.head())\n",
    "transaction_detail_2 = pd.read_csv('/Users/shimizushota/python/100knock-data_analytics/1章/transaction_detail_2.csv')\n",
    "transaction_detail_2.head()"
   ]
  },
  {
   "cell_type": "code",
   "execution_count": 129,
   "id": "472125dd-d8b7-4ff6-a1a5-6623422a90c6",
   "metadata": {},
   "outputs": [
    {
     "name": "stdout",
     "output_type": "stream",
     "text": [
      "  transaction_id   price         payment_date customer_id\n",
      "0    T0000000113  210000  2019-02-01 01:36:57    PL563502\n",
      "1    T0000000114   50000  2019-02-01 01:37:23    HD678019\n",
      "2    T0000000115  120000  2019-02-01 02:34:19    HD298120\n",
      "3    T0000000116  210000  2019-02-01 02:47:23    IK452215\n",
      "4    T0000000117  170000  2019-02-01 04:33:46    PL542865\n",
      "6786\n",
      "   detail_id transaction_id item_id  quantity\n",
      "0          0    T0000000113    S005         1\n",
      "1          1    T0000000114    S001         1\n",
      "2          2    T0000000115    S003         1\n",
      "3          3    T0000000116    S005         1\n",
      "4          4    T0000000117    S002         2\n",
      "7144\n"
     ]
    }
   ],
   "source": [
    "#データを結合（ユニオン）\n",
    "# ignore_indexを使用しないと，出力されるデータフレームのインデックスが連番にならない\n",
    "transaction = pd.concat([transaction_1, transaction_2], ignore_index = True)\n",
    "print(transaction.head())\n",
    "print(len(transaction))\n",
    "transaction_detail = pd.concat([transaction_detail_1, transaction_detail_2], ignore_index = True)\n",
    "print(transaction_detail.head())\n",
    "print(len(transaction_detail))"
   ]
  },
  {
   "cell_type": "code",
   "execution_count": 131,
   "id": "828811a8-565e-4b2d-9e6e-28029a3cd090",
   "metadata": {},
   "outputs": [
    {
     "name": "stdout",
     "output_type": "stream",
     "text": [
      "   detail_id transaction_id item_id  quantity         payment_date customer_id\n",
      "0          0    T0000000113    S005         1  2019-02-01 01:36:57    PL563502\n",
      "1          1    T0000000114    S001         1  2019-02-01 01:37:23    HD678019\n",
      "2          2    T0000000115    S003         1  2019-02-01 02:34:19    HD298120\n",
      "3          3    T0000000116    S005         1  2019-02-01 02:47:23    IK452215\n",
      "4          4    T0000000117    S002         2  2019-02-01 04:33:46    PL542865\n"
     ]
    },
    {
     "data": {
      "text/html": [
       "<div>\n",
       "<style scoped>\n",
       "    .dataframe tbody tr th:only-of-type {\n",
       "        vertical-align: middle;\n",
       "    }\n",
       "\n",
       "    .dataframe tbody tr th {\n",
       "        vertical-align: top;\n",
       "    }\n",
       "\n",
       "    .dataframe thead th {\n",
       "        text-align: right;\n",
       "    }\n",
       "</style>\n",
       "<table border=\"1\" class=\"dataframe\">\n",
       "  <thead>\n",
       "    <tr style=\"text-align: right;\">\n",
       "      <th></th>\n",
       "      <th>detail_id</th>\n",
       "      <th>transaction_id</th>\n",
       "      <th>item_id</th>\n",
       "      <th>quantity</th>\n",
       "      <th>payment_date</th>\n",
       "      <th>customer_id</th>\n",
       "      <th>customer_name</th>\n",
       "      <th>registration_date</th>\n",
       "      <th>customer_name_kana</th>\n",
       "      <th>email</th>\n",
       "      <th>gender</th>\n",
       "      <th>age</th>\n",
       "      <th>birth</th>\n",
       "      <th>pref</th>\n",
       "      <th>item_name</th>\n",
       "      <th>item_price</th>\n",
       "    </tr>\n",
       "  </thead>\n",
       "  <tbody>\n",
       "    <tr>\n",
       "      <th>0</th>\n",
       "      <td>0</td>\n",
       "      <td>T0000000113</td>\n",
       "      <td>S005</td>\n",
       "      <td>1</td>\n",
       "      <td>2019-02-01 01:36:57</td>\n",
       "      <td>PL563502</td>\n",
       "      <td>井本 芳正</td>\n",
       "      <td>2019-01-07 14:34:35</td>\n",
       "      <td>いもと よしまさ</td>\n",
       "      <td>imoto_yoshimasa@example.com</td>\n",
       "      <td>M</td>\n",
       "      <td>30</td>\n",
       "      <td>1989/7/15</td>\n",
       "      <td>熊本県</td>\n",
       "      <td>PC-E</td>\n",
       "      <td>210000</td>\n",
       "    </tr>\n",
       "    <tr>\n",
       "      <th>1</th>\n",
       "      <td>1</td>\n",
       "      <td>T0000000114</td>\n",
       "      <td>S001</td>\n",
       "      <td>1</td>\n",
       "      <td>2019-02-01 01:37:23</td>\n",
       "      <td>HD678019</td>\n",
       "      <td>三船 六郎</td>\n",
       "      <td>2019-01-27 18:00:11</td>\n",
       "      <td>みふね ろくろう</td>\n",
       "      <td>mifune_rokurou@example.com</td>\n",
       "      <td>M</td>\n",
       "      <td>73</td>\n",
       "      <td>1945/11/29</td>\n",
       "      <td>京都府</td>\n",
       "      <td>PC-A</td>\n",
       "      <td>50000</td>\n",
       "    </tr>\n",
       "    <tr>\n",
       "      <th>2</th>\n",
       "      <td>2</td>\n",
       "      <td>T0000000115</td>\n",
       "      <td>S003</td>\n",
       "      <td>1</td>\n",
       "      <td>2019-02-01 02:34:19</td>\n",
       "      <td>HD298120</td>\n",
       "      <td>山根 小雁</td>\n",
       "      <td>2019-01-11 08:16:02</td>\n",
       "      <td>やまね こがん</td>\n",
       "      <td>yamane_kogan@example.com</td>\n",
       "      <td>M</td>\n",
       "      <td>42</td>\n",
       "      <td>1977/5/17</td>\n",
       "      <td>茨城県</td>\n",
       "      <td>PC-C</td>\n",
       "      <td>120000</td>\n",
       "    </tr>\n",
       "    <tr>\n",
       "      <th>3</th>\n",
       "      <td>3</td>\n",
       "      <td>T0000000116</td>\n",
       "      <td>S005</td>\n",
       "      <td>1</td>\n",
       "      <td>2019-02-01 02:47:23</td>\n",
       "      <td>IK452215</td>\n",
       "      <td>池田 菜摘</td>\n",
       "      <td>2019-01-10 05:07:38</td>\n",
       "      <td>いけだ なつみ</td>\n",
       "      <td>ikeda_natsumi@example.com</td>\n",
       "      <td>F</td>\n",
       "      <td>47</td>\n",
       "      <td>1972/3/17</td>\n",
       "      <td>兵庫県</td>\n",
       "      <td>PC-E</td>\n",
       "      <td>210000</td>\n",
       "    </tr>\n",
       "    <tr>\n",
       "      <th>4</th>\n",
       "      <td>4</td>\n",
       "      <td>T0000000117</td>\n",
       "      <td>S002</td>\n",
       "      <td>2</td>\n",
       "      <td>2019-02-01 04:33:46</td>\n",
       "      <td>PL542865</td>\n",
       "      <td>栗田 憲一</td>\n",
       "      <td>2019-01-25 06:46:05</td>\n",
       "      <td>くりた けんいち</td>\n",
       "      <td>kurita_kenichi@example.com</td>\n",
       "      <td>M</td>\n",
       "      <td>74</td>\n",
       "      <td>1944/12/17</td>\n",
       "      <td>長崎県</td>\n",
       "      <td>PC-B</td>\n",
       "      <td>85000</td>\n",
       "    </tr>\n",
       "  </tbody>\n",
       "</table>\n",
       "</div>"
      ],
      "text/plain": [
       "   detail_id transaction_id item_id  quantity         payment_date  \\\n",
       "0          0    T0000000113    S005         1  2019-02-01 01:36:57   \n",
       "1          1    T0000000114    S001         1  2019-02-01 01:37:23   \n",
       "2          2    T0000000115    S003         1  2019-02-01 02:34:19   \n",
       "3          3    T0000000116    S005         1  2019-02-01 02:47:23   \n",
       "4          4    T0000000117    S002         2  2019-02-01 04:33:46   \n",
       "\n",
       "  customer_id customer_name    registration_date customer_name_kana  \\\n",
       "0    PL563502         井本 芳正  2019-01-07 14:34:35           いもと よしまさ   \n",
       "1    HD678019         三船 六郎  2019-01-27 18:00:11           みふね ろくろう   \n",
       "2    HD298120         山根 小雁  2019-01-11 08:16:02            やまね こがん   \n",
       "3    IK452215         池田 菜摘  2019-01-10 05:07:38            いけだ なつみ   \n",
       "4    PL542865         栗田 憲一  2019-01-25 06:46:05           くりた けんいち   \n",
       "\n",
       "                         email gender  age       birth pref item_name  \\\n",
       "0  imoto_yoshimasa@example.com      M   30   1989/7/15  熊本県      PC-E   \n",
       "1   mifune_rokurou@example.com      M   73  1945/11/29  京都府      PC-A   \n",
       "2     yamane_kogan@example.com      M   42   1977/5/17  茨城県      PC-C   \n",
       "3    ikeda_natsumi@example.com      F   47   1972/3/17  兵庫県      PC-E   \n",
       "4   kurita_kenichi@example.com      M   74  1944/12/17  長崎県      PC-B   \n",
       "\n",
       "   item_price  \n",
       "0      210000  \n",
       "1       50000  \n",
       "2      120000  \n",
       "3      210000  \n",
       "4       85000  "
      ]
     },
     "execution_count": 131,
     "metadata": {},
     "output_type": "execute_result"
    }
   ],
   "source": [
    "#売り上げデータを結合（ジョイン）\n",
    "join_data = pd.merge(transaction_detail, transaction[[\"transaction_id\", \"payment_date\", \"customer_id\"]], on = \"transaction_id\", how = \"left\" )\n",
    "print(join_data.head())\n",
    "\n",
    "#マスターデータを結合（ジョイン）\n",
    "join_data = pd.merge(join_data, customer_master, on = 'customer_id', how = 'left')\n",
    "join_data = pd.merge(join_data, item_master, on = 'item_id', how = 'left')\n",
    "join_data.head()"
   ]
  },
  {
   "cell_type": "code",
   "execution_count": 133,
   "id": "b5e2fa29-7b5e-476a-b060-43ee52bd855c",
   "metadata": {},
   "outputs": [
    {
     "data": {
      "text/html": [
       "<div>\n",
       "<style scoped>\n",
       "    .dataframe tbody tr th:only-of-type {\n",
       "        vertical-align: middle;\n",
       "    }\n",
       "\n",
       "    .dataframe tbody tr th {\n",
       "        vertical-align: top;\n",
       "    }\n",
       "\n",
       "    .dataframe thead th {\n",
       "        text-align: right;\n",
       "    }\n",
       "</style>\n",
       "<table border=\"1\" class=\"dataframe\">\n",
       "  <thead>\n",
       "    <tr style=\"text-align: right;\">\n",
       "      <th></th>\n",
       "      <th>quantity</th>\n",
       "      <th>item_price</th>\n",
       "      <th>price</th>\n",
       "    </tr>\n",
       "  </thead>\n",
       "  <tbody>\n",
       "    <tr>\n",
       "      <th>0</th>\n",
       "      <td>1</td>\n",
       "      <td>210000</td>\n",
       "      <td>210000</td>\n",
       "    </tr>\n",
       "    <tr>\n",
       "      <th>1</th>\n",
       "      <td>1</td>\n",
       "      <td>50000</td>\n",
       "      <td>50000</td>\n",
       "    </tr>\n",
       "    <tr>\n",
       "      <th>2</th>\n",
       "      <td>1</td>\n",
       "      <td>120000</td>\n",
       "      <td>120000</td>\n",
       "    </tr>\n",
       "    <tr>\n",
       "      <th>3</th>\n",
       "      <td>1</td>\n",
       "      <td>210000</td>\n",
       "      <td>210000</td>\n",
       "    </tr>\n",
       "    <tr>\n",
       "      <th>4</th>\n",
       "      <td>2</td>\n",
       "      <td>85000</td>\n",
       "      <td>170000</td>\n",
       "    </tr>\n",
       "  </tbody>\n",
       "</table>\n",
       "</div>"
      ],
      "text/plain": [
       "   quantity  item_price   price\n",
       "0         1      210000  210000\n",
       "1         1       50000   50000\n",
       "2         1      120000  120000\n",
       "3         1      210000  210000\n",
       "4         2       85000  170000"
      ]
     },
     "execution_count": 133,
     "metadata": {},
     "output_type": "execute_result"
    }
   ],
   "source": [
    "#必要なデータ列を作る\n",
    "join_data['price'] = join_data['quantity'] * join_data['item_price']\n",
    "join_data[['quantity', 'item_price', 'price']].head()"
   ]
  },
  {
   "cell_type": "code",
   "execution_count": 135,
   "id": "90c2946a-9085-436c-84b0-4c71b6929f98",
   "metadata": {},
   "outputs": [
    {
     "name": "stdout",
     "output_type": "stream",
     "text": [
      "971135000\n",
      "971135000\n"
     ]
    },
    {
     "data": {
      "text/plain": [
       "True"
      ]
     },
     "execution_count": 135,
     "metadata": {},
     "output_type": "execute_result"
    }
   ],
   "source": [
    "#データ検算\n",
    "print(sum(join_data['price']))\n",
    "print(sum(transaction['price']))\n",
    "\n",
    "sum(join_data['price']) == sum(transaction['price'])"
   ]
  },
  {
   "cell_type": "code",
   "execution_count": 137,
   "id": "1c383887-2b04-40ca-a581-83e2d3a0dd06",
   "metadata": {
    "scrolled": true
   },
   "outputs": [
    {
     "name": "stdout",
     "output_type": "stream",
     "text": [
      "detail_id             0\n",
      "transaction_id        0\n",
      "item_id               0\n",
      "quantity              0\n",
      "payment_date          0\n",
      "customer_id           0\n",
      "customer_name         0\n",
      "registration_date     0\n",
      "customer_name_kana    0\n",
      "email                 0\n",
      "gender                0\n",
      "age                   0\n",
      "birth                 0\n",
      "pref                  0\n",
      "item_name             0\n",
      "item_price            0\n",
      "price                 0\n",
      "dtype: int64\n",
      "         detail_id     quantity          age     item_price          price\n",
      "count  7144.000000  7144.000000  7144.000000    7144.000000    7144.000000\n",
      "mean   3571.500000     1.199888    50.265677  121698.628219  135937.150056\n",
      "std    2062.439494     0.513647    17.190314   64571.311830   68511.453297\n",
      "min       0.000000     1.000000    20.000000   50000.000000   50000.000000\n",
      "25%    1785.750000     1.000000    36.000000   50000.000000   85000.000000\n",
      "50%    3571.500000     1.000000    50.000000  102500.000000  120000.000000\n",
      "75%    5357.250000     1.000000    65.000000  187500.000000  210000.000000\n",
      "max    7143.000000     4.000000    80.000000  210000.000000  420000.000000\n",
      "payment_date_min = 2019-02-01 01:36:57\n",
      "payment_date_max = 2019-07-31 23:41:38\n"
     ]
    }
   ],
   "source": [
    "#各種統計量を把握する\n",
    "print(join_data.isnull().sum()) #isnull true/falseを返す　\n",
    "print(join_data.describe())\n",
    "print('payment_date_min =',join_data['payment_date'].min())\n",
    "print('payment_date_max =',join_data['payment_date'].max())"
   ]
  },
  {
   "cell_type": "code",
   "execution_count": null,
   "id": "d3589a34-8057-4c61-b405-0c8a7ae43b25",
   "metadata": {},
   "outputs": [],
   "source": [
    "#月別でデータを集計\n",
    "print(join_data.dtypes) #最初にデータタイプを確認する\n",
    "\n",
    "join_data['payment_date'] = pd.to_datetime(join_data['payment_date']) #datatypeをobjectからdatatime型に変換した\n",
    "\n",
    "join_data['payment_month'] = join_data['payment_date'].dt.strftime('%Y%m') #datetime型を「年＋月」の文字列に変換する\n",
    "join_data['payment_date'] = join_data['payment_date'].astype(str)\n",
    "join_data[['payment_date', 'payment_month']].head()\n",
    "join_data.groupby('payment_month').sum()['price']\n",
    "\n",
    "print(join_data.groupby(['payment_month', 'item_name']).sum()[['price', 'quantity']])\n",
    "\n",
    "print(pd.pivot_table(join_data, index = 'item_name', columns = 'payment_month', values = ['price', 'quantity'], aggfunc = 'sum'))"
   ]
  },
  {
   "cell_type": "code",
   "execution_count": 182,
   "id": "739bda2c-f4bd-4ebc-ba25-6098e701fe4c",
   "metadata": {},
   "outputs": [
    {
     "name": "stdout",
     "output_type": "stream",
     "text": [
      "item_name          PC-A      PC-B      PC-C      PC-D      PC-E\n",
      "payment_month                                                  \n",
      "201902         24150000  25245000  19800000  31140000  59850000\n",
      "201903         26000000  25500000  19080000  25740000  64050000\n",
      "201904         25900000  23460000  21960000  24300000  64890000\n",
      "201905         24850000  25330000  20520000  25920000  58800000\n",
      "201906         26000000  23970000  21840000  28800000  63420000\n"
     ]
    },
    {
     "data": {
      "text/plain": [
       "pandas.core.frame.DataFrame"
      ]
     },
     "execution_count": 182,
     "metadata": {},
     "output_type": "execute_result"
    }
   ],
   "source": [
    "#商品別の売上推移を可視化する\n",
    "graph_data = pd.pivot_table(join_data, index = 'payment_month', columns = 'item_name', values = 'price', aggfunc = 'sum')\n",
    "print(graph_data.head())"
   ]
  },
  {
   "cell_type": "code",
   "execution_count": 153,
   "id": "2c6ba798-966d-43b7-850f-f5cad652b267",
   "metadata": {},
   "outputs": [
    {
     "data": {
      "image/png": "[encoded data removed]",
      "text/plain": [
       "<Figure size 640x480 with 1 Axes>"
      ]
     },
     "metadata": {},
     "output_type": "display_data"
    }
   ],
   "source": [
    "import matplotlib.pyplot as plt\n",
    "%matplotlib inline\n",
    "plt.plot(list(graph_data.index), graph_data['PC-A'], label = 'PC-A') #list(graph_data.index)ではなく、graph_data.indexでも可能\n",
    "plt.plot(list(graph_data.index), graph_data['PC-B'], label = 'PC-B')\n",
    "plt.plot(list(graph_data.index), graph_data['PC-C'], label = 'PC-C')\n",
    "plt.plot(list(graph_data.index), graph_data['PC-D'], label = 'PC-D')\n",
    "plt.plot(list(graph_data.index), graph_data['PC-E'], label = 'PC-E')\n",
    "plt.legend()\n",
    "plt.show()"
   ]
  },
  {
   "cell_type": "code",
   "execution_count": 178,
   "id": "9be58b97-e7bb-43ee-8f73-281f3183be90",
   "metadata": {
    "scrolled": true
   },
   "outputs": [
    {
     "data": {
      "image/png": "[encoded data removed]",
      "text/plain": [
       "<Figure size 640x480 with 1 Axes>"
      ]
     },
     "metadata": {},
     "output_type": "display_data"
    }
   ],
   "source": [
    "import matplotlib.style\n",
    "matplotlib.style.use('ggplot')\n",
    "import japanize_matplotlib \n",
    "\n",
    "fig, ax = plt.subplots()\n",
    "ax.plot(list(graph_data.index), graph_data['PC-A'], label = 'PC-A')\n",
    "ax.plot(list(graph_data.index), graph_data['PC-B'], label = 'PC-B')\n",
    "ax.plot(list(graph_data.index), graph_data['PC-C'], label = 'PC-C')\n",
    "ax.plot(list(graph_data.index), graph_data['PC-D'], label = 'PC-D')\n",
    "ax.plot(list(graph_data.index), graph_data['PC-E'], label = 'PC-E')\n",
    "plt.legend()\n",
    "plt.show()"
   ]
  },
  {
   "cell_type": "code",
   "execution_count": null,
   "id": "d1c9103c-0f36-4dc9-b29e-c50d3bfa00fa",
   "metadata": {},
   "outputs": [],
   "source": []
  }
 ],
 "metadata": {
  "kernelspec": {
   "display_name": "Python [conda env:base] *",
   "language": "python",
   "name": "conda-base-py"
  },
  "language_info": {
   "codemirror_mode": {
    "name": "ipython",
    "version": 3
   },
   "file_extension": ".py",
   "mimetype": "text/x-python",
   "name": "python",
   "nbconvert_exporter": "python",
   "pygments_lexer": "ipython3",
   "version": "3.12.7"
  }
 },
 "nbformat": 4,
 "nbformat_minor": 5
}
